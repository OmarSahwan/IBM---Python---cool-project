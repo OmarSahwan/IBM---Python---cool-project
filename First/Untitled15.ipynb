{
  "nbformat": 4,
  "nbformat_minor": 0,
  "metadata": {
    "colab": {
      "provenance": []
    },
    "kernelspec": {
      "name": "python3",
      "display_name": "Python 3"
    },
    "language_info": {
      "name": "python"
    }
  },
  "cells": [
    {
      "cell_type": "code",
      "execution_count": 1,
      "metadata": {
        "id": "UQEo58Bc5fDI"
      },
      "outputs": [],
      "source": [
        "import random"
      ]
    },
    {
      "cell_type": "code",
      "source": [
        "import string\n"
      ],
      "metadata": {
        "id": "ih9ojAED6WhX"
      },
      "execution_count": 4,
      "outputs": []
    },
    {
      "cell_type": "code",
      "source": [
        "length_of_list = 10\n",
        "\n",
        "possible_values = string.ascii_letters + string.digits + string.punctuation\n",
        "\n",
        "random_list1 = random.choices(possible_values, k=length_of_list)\n",
        "random_list2 = random.choices(possible_values, k=length_of_list)\n",
        "random_list3 = random.choices(possible_values, k=length_of_list)\n",
        "random_list4 = random.choices(possible_values, k=length_of_list)\n",
        "\n",
        "new_list = []\n",
        "\n",
        "for i in range(length_of_list):\n",
        "\n",
        "    chosen_list = random.choice([random_list1, random_list2, random_list3, random_list4])\n",
        "\n",
        "    new_list.append(random.choice(chosen_list))\n",
        "\n",
        "print(\"List 1:\", random_list1)\n",
        "print(\"List 2:\", random_list2)\n",
        "print(\"List 3:\", random_list3)\n",
        "print(\"List 4:\", random_list4)\n",
        "print(\"New List:\", new_list)"
      ],
      "metadata": {
        "colab": {
          "base_uri": "https://localhost:8080/"
        },
        "id": "fHxO5EXK59Su",
        "outputId": "00548d4f-a20c-4e60-a81f-3c5f5ae74f0f"
      },
      "execution_count": 9,
      "outputs": [
        {
          "output_type": "stream",
          "name": "stdout",
          "text": [
            "List 1: ['u', '$', 'q', 'h', 'm', 'p', 'q', '&', 'U', 'E']\n",
            "List 2: ['x', 'F', '3', '8', 'b', 'M', '(', 'b', '6', 'f']\n",
            "List 3: ['8', '2', 'f', 's', 'b', 'H', 'Y', '{', 'f', '0']\n",
            "List 4: ['Z', '~', 'S', 'D', '@', 'D', '3', 'z', \"'\", ':']\n",
            "New List: ['q', 'z', 'E', 'u', '2', 'S', 'z', 'm', '{', 'h']\n"
          ]
        }
      ]
    }
  ]
}